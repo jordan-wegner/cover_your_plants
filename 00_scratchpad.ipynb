{
 "cells": [
  {
   "cell_type": "code",
   "execution_count": null,
   "id": "3930392e-a09e-43fd-b3ef-73fe5f1fcee4",
   "metadata": {},
   "outputs": [],
   "source": [
    "import requests\n",
    "from bs4 import BeautifulSoup\n",
    "\n",
    "url = \"https://forecast.weather.gov/MapClick.php?lat=33.004190&lon=-96.906520\"\n",
    "\n",
    "soup = BeautifulSoup(requests.get(url).content, \"html.parser\")\n",
    "for f in soup.select(\"li.forecast-tombstone\"):\n",
    "    print(f.select_one(\".period-name\").get_text(strip=True, separator=\" \"))\n",
    "    print(f.select_one(\".short-desc\").get_text(strip=True, separator=\" \"))\n",
    "    print(f.select_one(\".temp\").text)\n",
    "    print(\"-\" * 80)"
   ]
  },
  {
   "cell_type": "code",
   "execution_count": 98,
   "id": "3f0d46cf-5d28-4621-9576-a1fb9f4e7387",
   "metadata": {},
   "outputs": [],
   "source": [
    "def cover_your_plants(city=\"carrollton\"):\n",
    "    # imports \n",
    "    \n",
    "    # for scraping the weather \n",
    "    import pandas as pd\n",
    "    import requests\n",
    "    from bs4 import BeautifulSoup\n",
    "    \n",
    "    # scraping the weather  \n",
    "    url = \"https://forecast.weather.gov/MapClick.php?lat=33.004190&lon=-96.906520\"\n",
    "\n",
    "    tls = []\n",
    "    for f in soup.select(\"li.forecast-tombstone\"):\n",
    "        a = f.select_one(\".period-name\").get_text(strip=True, separator=\" \")\n",
    "        b = f.select_one(\".short-desc\").get_text(strip=True, separator=\" \")\n",
    "        c = f.select_one(\".temp\").text\n",
    "        tl = [a,b,c]\n",
    "        tls.append(tl)\n",
    "    TL1 = pd.DataFrame(tls)\n",
    "    TL = TL1.copy()\n",
    "    TL.columns = ['Time','DESCR','TEMP']\n",
    "    tl_temp_splits = TL['TEMP'].str.split(': ')\n",
    "    hl = [i[0] for i in tl_temp_splits]\n",
    "    t = [i[1] for i in tl_temp_splits]\n",
    "    TL['HIGH_LOW'] = hl\n",
    "    TL['DEG'] = t\n",
    "    TL['DEG_INT'] = [int(i.split(\" \")[0]) for i in t]\n",
    "    night_low = TL[(TL['Time']=='Tonight')&(TL['HIGH_LOW']=='Low')]['DEG_INT'].values[0]\n",
    "    \n",
    "    if night_low <=32:\n",
    "        recommendation = \"Cover the plants!\"\n",
    "    elif night_low >32:\n",
    "        recommendation = \"No need to cover the plants tonight.\"\n",
    "    else:\n",
    "        recommendation = \"Something is wrong! Check your code!\"\n",
    "    \n",
    "    # formatting the message \n",
    "    ls = []\n",
    "    for i in range(0,len(TL1)):\n",
    "        x = TL1.iloc[i,:].values[0]\n",
    "        y = TL1.iloc[i,:].values[1]\n",
    "        z = TL1.iloc[i,:].values[2]\n",
    "        l1 = \"{} will be {} with {}\".format(x,y,z)\n",
    "        ls.append(l1)\n",
    "    m = ls[1] + \".  \" + recommendation\n",
    "    \n",
    "    # sending the message \n",
    "    yag = yagmail.SMTP('nbadailyprediction@gmail.com', password = \"bjqphhhhbbpzobns\")\n",
    "    #yag.send(to=['3256173035@mms.att.net','5127863033@mms.att.net'],contents=message)\n",
    "    yag.send(to=['3256173035@mms.att.net'],contents=m)"
   ]
  },
  {
   "cell_type": "code",
   "execution_count": 99,
   "id": "e53504f5-2e84-4018-b0de-1b6c770c98cc",
   "metadata": {},
   "outputs": [],
   "source": [
    "cover_your_plants()"
   ]
  },
  {
   "cell_type": "code",
   "execution_count": null,
   "id": "d8645ce0-eed6-43ad-9379-6c86bdd12c6c",
   "metadata": {},
   "outputs": [],
   "source": []
  }
 ],
 "metadata": {
  "kernelspec": {
   "display_name": "Python 3 (ipykernel)",
   "language": "python",
   "name": "python3"
  },
  "language_info": {
   "codemirror_mode": {
    "name": "ipython",
    "version": 3
   },
   "file_extension": ".py",
   "mimetype": "text/x-python",
   "name": "python",
   "nbconvert_exporter": "python",
   "pygments_lexer": "ipython3",
   "version": "3.8.12"
  }
 },
 "nbformat": 4,
 "nbformat_minor": 5
}
