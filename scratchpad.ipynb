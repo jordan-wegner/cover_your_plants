{
 "cells": [
  {
   "cell_type": "raw",
   "id": "eb7256c2-e3fb-4de4-a4a4-aa9601748ffb",
   "metadata": {
    "jp-MarkdownHeadingCollapsed": true,
    "tags": []
   },
   "source": [
    "# Weather "
   ]
  },
  {
   "cell_type": "markdown",
   "id": "fa49809f-22a2-4ac8-8b3b-fb933021f499",
   "metadata": {},
   "source": [
    "## Scraping "
   ]
  },
  {
   "cell_type": "code",
   "execution_count": 68,
   "id": "f4ea1e56-8ff5-46da-a24c-110e831b930e",
   "metadata": {},
   "outputs": [],
   "source": [
    "from bs4 import BeautifulSoup\n",
    "import requests"
   ]
  },
  {
   "cell_type": "code",
   "execution_count": 75,
   "id": "33851059-3ea7-4856-95ab-acc26fb23493",
   "metadata": {},
   "outputs": [],
   "source": [
    "url = \"https://www.localconditions.com/weather-carrollton-texas/75006/\""
   ]
  },
  {
   "cell_type": "code",
   "execution_count": 76,
   "id": "33fbc848-4da7-433e-b098-31f764029330",
   "metadata": {},
   "outputs": [],
   "source": [
    "stuff = requests.get(url)"
   ]
  },
  {
   "cell_type": "code",
   "execution_count": 77,
   "id": "a154fe09-2efd-43eb-b29a-bc3f1ecce9d9",
   "metadata": {},
   "outputs": [
    {
     "data": {
      "text/plain": [
       "<Response [200]>"
      ]
     },
     "execution_count": 77,
     "metadata": {},
     "output_type": "execute_result"
    }
   ],
   "source": [
    "stuff"
   ]
  },
  {
   "cell_type": "code",
   "execution_count": 80,
   "id": "24e73faf-95c5-4291-814b-e2a3c8c86334",
   "metadata": {},
   "outputs": [],
   "source": [
    "soup = BeautifulSoup(stuff.content,features=\"lxml\")"
   ]
  },
  {
   "cell_type": "code",
   "execution_count": null,
   "id": "59ee99dd-f6be-471b-bee2-5f7f10df9014",
   "metadata": {},
   "outputs": [],
   "source": [
    "soup"
   ]
  },
  {
   "cell_type": "code",
   "execution_count": 90,
   "id": "1bf21b50-d0fd-48d4-ae98-dbbdc3f2abca",
   "metadata": {},
   "outputs": [
    {
     "data": {
      "text/plain": [
       "[]"
      ]
     },
     "execution_count": 90,
     "metadata": {},
     "output_type": "execute_result"
    }
   ],
   "source": [
    "soup.find_all(\"tab_content\")"
   ]
  },
  {
   "cell_type": "markdown",
   "id": "4b09cb0e-39fc-4fac-9654-24b7bb04e4d9",
   "metadata": {},
   "source": [
    "## Google Data "
   ]
  },
  {
   "cell_type": "code",
   "execution_count": 91,
   "id": "0e3320e9-e4ea-4936-bdc9-84784bd9b841",
   "metadata": {},
   "outputs": [
    {
     "data": {
      "text/plain": [
       "'https://www.google.com/search?q=weatherCarrollton'"
      ]
     },
     "execution_count": 91,
     "metadata": {},
     "output_type": "execute_result"
    }
   ],
   "source": [
    "\"https://www.google.com/search?q=\"+\"weather\"+\"Carrollton\""
   ]
  },
  {
   "cell_type": "code",
   "execution_count": 92,
   "id": "e9cf6251-5088-44f2-8c4f-1ab5a49298d9",
   "metadata": {},
   "outputs": [],
   "source": [
    "# importing the library\n",
    "import requests\n",
    "from bs4 import BeautifulSoup\n"
   ]
  },
  {
   "cell_type": "code",
   "execution_count": 93,
   "id": "3b865778-13e5-4e04-a94c-f0a383e2a03f",
   "metadata": {},
   "outputs": [],
   "source": [
    "# enter city name\n",
    "city = \"carrollton\"\n",
    "\n",
    "# create url\n",
    "url = \"https://www.google.com/search?q=\"+\"weather\"+city\n",
    "\n",
    "# requests instance\n",
    "html = requests.get(url).content\n",
    "\n",
    "# getting raw data\n",
    "soup = BeautifulSoup(html, 'html.parser')\n"
   ]
  },
  {
   "cell_type": "code",
   "execution_count": null,
   "id": "1210eb1b-2ffd-4a90-b8fc-4c8953ef097f",
   "metadata": {},
   "outputs": [],
   "source": [
    "soup"
   ]
  },
  {
   "cell_type": "code",
   "execution_count": 98,
   "id": "96eb33e2-f59e-42a0-bb3f-4833804bc43a",
   "metadata": {},
   "outputs": [],
   "source": [
    "# get the temperature\n",
    "temp = soup.find('div', attrs={'class': 'BNeawe iBp4i AP7Wnd'}).text\n",
    "\n",
    "# this contains time and sky description\n",
    "string = soup.find('div', attrs={'class': 'BNeawe tAd8D AP7Wnd'}).text\n",
    "\n",
    "# format the data\n",
    "data = string.split('\\n')\n",
    "time = data[0]\n",
    "sky = data[1]\n"
   ]
  },
  {
   "cell_type": "code",
   "execution_count": 99,
   "id": "15367c24-52fa-4b8d-ae93-6ba5a1f9b3ba",
   "metadata": {},
   "outputs": [
    {
     "data": {
      "text/plain": [
       "'47°F'"
      ]
     },
     "execution_count": 99,
     "metadata": {},
     "output_type": "execute_result"
    }
   ],
   "source": [
    "temp"
   ]
  },
  {
   "cell_type": "code",
   "execution_count": 101,
   "id": "1e8ebf06-89b8-46a1-96e0-11d92b70019e",
   "metadata": {},
   "outputs": [
    {
     "data": {
      "text/plain": [
       "'Friday 3:20 PM\\nCloudy'"
      ]
     },
     "execution_count": 101,
     "metadata": {},
     "output_type": "execute_result"
    }
   ],
   "source": [
    "string"
   ]
  },
  {
   "cell_type": "code",
   "execution_count": 102,
   "id": "7a429d0c-b379-4e16-a4b9-c0edea084f09",
   "metadata": {},
   "outputs": [
    {
     "data": {
      "text/plain": [
       "['Friday 3:20 PM', 'Cloudy']"
      ]
     },
     "execution_count": 102,
     "metadata": {},
     "output_type": "execute_result"
    }
   ],
   "source": [
    "data"
   ]
  },
  {
   "cell_type": "code",
   "execution_count": 103,
   "id": "089c16f5-d473-4335-8ceb-b3c70b51c9b4",
   "metadata": {},
   "outputs": [],
   "source": [
    "# list having all div tags having particular class name\n",
    "listdiv = soup.findAll('div', attrs={'class': 'BNeawe s3v9rd AP7Wnd'})\n",
    "\n",
    "# particular list with required data\n",
    "strd = listdiv[5].text\n",
    "\n",
    "# formatting the string\n",
    "pos = strd.find('Wind')\n",
    "other_data = strd[pos:]\n"
   ]
  },
  {
   "cell_type": "code",
   "execution_count": 105,
   "id": "74658b18-b18f-499b-99f1-b0977c287962",
   "metadata": {},
   "outputs": [
    {
     "data": {
      "text/plain": [
       "'Weather Today in Carrollton, TX ; High / Low. 49°/34° ; Wind. 12 mph ; Humidity. 59% ; Dew Point. 33° ; Pressure. 30.42 in.'"
      ]
     },
     "execution_count": 105,
     "metadata": {},
     "output_type": "execute_result"
    }
   ],
   "source": [
    "strd"
   ]
  },
  {
   "cell_type": "code",
   "execution_count": 106,
   "id": "5606725a-50ef-4a9c-b895-81d463a5097a",
   "metadata": {},
   "outputs": [
    {
     "data": {
      "text/plain": [
       "56"
      ]
     },
     "execution_count": 106,
     "metadata": {},
     "output_type": "execute_result"
    }
   ],
   "source": [
    "pos"
   ]
  },
  {
   "cell_type": "code",
   "execution_count": 109,
   "id": "47458ef0-31a7-463c-a700-04fbd4a3e0df",
   "metadata": {},
   "outputs": [
    {
     "data": {
      "text/plain": [
       "'Wind. 12 mph ; Humidity. 59% ; Dew Point. 33° ; Pressure. 30.42 in.'"
      ]
     },
     "execution_count": 109,
     "metadata": {},
     "output_type": "execute_result"
    }
   ],
   "source": [
    "other_data"
   ]
  },
  {
   "cell_type": "code",
   "execution_count": 110,
   "id": "b7c1eb94-6f14-4d00-9473-993aaa4e55d7",
   "metadata": {},
   "outputs": [
    {
     "name": "stdout",
     "output_type": "stream",
     "text": [
      "Temperature is 47°F\n",
      "Time:  Friday 3:20 PM\n",
      "Sky Description:  Cloudy\n",
      "Wind. 12 mph ; Humidity. 59% ; Dew Point. 33° ; Pressure. 30.42 in.\n"
     ]
    }
   ],
   "source": [
    "# printing all the data\n",
    "print(\"Temperature is\", temp)\n",
    "print(\"Time: \", time)\n",
    "print(\"Sky Description: \", sky)\n",
    "print(other_data)\n"
   ]
  },
  {
   "cell_type": "code",
   "execution_count": 113,
   "id": "af0385bc-6aea-4515-8227-c8daadc25ccd",
   "metadata": {},
   "outputs": [
    {
     "data": {
      "text/plain": [
       "34"
      ]
     },
     "execution_count": 113,
     "metadata": {},
     "output_type": "execute_result"
    }
   ],
   "source": [
    "strd.find('High')"
   ]
  },
  {
   "cell_type": "code",
   "execution_count": 114,
   "id": "564e525e-10c1-460f-80b9-ba254d89cf36",
   "metadata": {},
   "outputs": [
    {
     "data": {
      "text/plain": [
       "'High / Low. 49°/34° ; Wind. 12 mph ; Humidity. 59% ; Dew Point. 33° ; Pressure. 30.42 in.'"
      ]
     },
     "execution_count": 114,
     "metadata": {},
     "output_type": "execute_result"
    }
   ],
   "source": [
    "strd[34:]"
   ]
  },
  {
   "cell_type": "code",
   "execution_count": 118,
   "id": "3b4ac6be-da62-4a60-b7cf-0c4ca1582b71",
   "metadata": {},
   "outputs": [
    {
     "data": {
      "text/plain": [
       "'High / Low. 49°/34°'"
      ]
     },
     "execution_count": 118,
     "metadata": {},
     "output_type": "execute_result"
    }
   ],
   "source": [
    "strd[34:53]"
   ]
  },
  {
   "cell_type": "code",
   "execution_count": 120,
   "id": "bcaa3259-da2a-4328-a31e-a71a2184eb6b",
   "metadata": {},
   "outputs": [],
   "source": [
    "hilo = strd[strd.find('High'):strd.find('Wind')-3]"
   ]
  },
  {
   "cell_type": "code",
   "execution_count": 128,
   "id": "1ef76306-7a9a-42a2-b9dc-6223ba0e1890",
   "metadata": {},
   "outputs": [],
   "source": [
    "low = int(hilo[-3:-1])"
   ]
  },
  {
   "cell_type": "code",
   "execution_count": null,
   "id": "e11ca98f-9626-47f9-9df6-d7a663e1df64",
   "metadata": {},
   "outputs": [],
   "source": []
  },
  {
   "cell_type": "code",
   "execution_count": null,
   "id": "f149e677-eb7a-4808-9a1a-b635222e4eb2",
   "metadata": {},
   "outputs": [],
   "source": []
  },
  {
   "cell_type": "markdown",
   "id": "c0e2ee86-1598-46bd-8f29-e428536fb72f",
   "metadata": {},
   "source": [
    "## API Eval"
   ]
  },
  {
   "cell_type": "code",
   "execution_count": 23,
   "id": "a2fb4700-b2d6-4a6c-bf30-c86c64c2ac38",
   "metadata": {},
   "outputs": [],
   "source": [
    "API_KEY = \"4a2015aa6a423fe2290c16f0619ce3f7\"\n",
    "DEFAULT_API_KEY = \"dd7ea5c51c2cf3298bc0dc23b3d99363\""
   ]
  },
  {
   "cell_type": "code",
   "execution_count": 28,
   "id": "6e4a892d-143f-411c-bff6-a1cfebb03cb0",
   "metadata": {},
   "outputs": [
    {
     "data": {
      "text/plain": [
       "'https://api.openweathermap.org/data/2.5/weather?zip=94040,us&appid=dd7ea5c51c2cf3298bc0dc23b3d99363'"
      ]
     },
     "execution_count": 28,
     "metadata": {},
     "output_type": "execute_result"
    }
   ],
   "source": [
    "URL = \"https://api.openweathermap.org/data/2.5/weather?zip=94040,us&appid={}\".format(DEFAULT_API_KEY)\n",
    "URL"
   ]
  },
  {
   "cell_type": "code",
   "execution_count": 29,
   "id": "f5798f42-5da2-48e8-9966-60ac34b36b95",
   "metadata": {},
   "outputs": [],
   "source": [
    "response = requests.get(URL)"
   ]
  },
  {
   "cell_type": "code",
   "execution_count": 30,
   "id": "48f20c93-eb0c-4229-8ebf-a690dd07a069",
   "metadata": {},
   "outputs": [
    {
     "data": {
      "text/plain": [
       "<Response [401]>"
      ]
     },
     "execution_count": 30,
     "metadata": {},
     "output_type": "execute_result"
    }
   ],
   "source": [
    "response"
   ]
  },
  {
   "cell_type": "code",
   "execution_count": 31,
   "id": "b5ab29c6-7397-4f0f-af76-d601dcb7a6df",
   "metadata": {},
   "outputs": [
    {
     "data": {
      "text/plain": [
       "{'cod': 401,\n",
       " 'message': 'Invalid API key. Please see https://openweathermap.org/faq#error401 for more info.'}"
      ]
     },
     "execution_count": 31,
     "metadata": {},
     "output_type": "execute_result"
    }
   ],
   "source": [
    "response.json()"
   ]
  },
  {
   "cell_type": "code",
   "execution_count": 45,
   "id": "6ce95527-b028-4259-9fc4-99f189186b9a",
   "metadata": {},
   "outputs": [],
   "source": [
    "import requests, json"
   ]
  },
  {
   "cell_type": "code",
   "execution_count": 46,
   "id": "a8587a29-7748-4f65-974a-53135be0f194",
   "metadata": {},
   "outputs": [],
   "source": [
    "URL = \"https://api.openweathermap.org/data/2.5/weather?zip=75007,us&appid={}\".format(API_KEY)"
   ]
  },
  {
   "cell_type": "code",
   "execution_count": 48,
   "id": "ab880569-c175-4922-913f-a85e82c24a12",
   "metadata": {},
   "outputs": [],
   "source": [
    "res = requests.get(URL)"
   ]
  },
  {
   "cell_type": "code",
   "execution_count": 50,
   "id": "75712845-64bf-4a7b-8270-f2ef3d253bf3",
   "metadata": {},
   "outputs": [],
   "source": [
    "main = res.json()"
   ]
  },
  {
   "cell_type": "code",
   "execution_count": 55,
   "id": "54bdf170-8af9-4a90-ae98-bc778af4af42",
   "metadata": {},
   "outputs": [
    {
     "data": {
      "text/plain": [
       "'Clouds'"
      ]
     },
     "execution_count": 55,
     "metadata": {},
     "output_type": "execute_result"
    }
   ],
   "source": [
    "main['weather'][0]['main']"
   ]
  },
  {
   "cell_type": "code",
   "execution_count": null,
   "id": "5fbf8523-2dc4-4c68-aa55-1d7f3e9b7522",
   "metadata": {},
   "outputs": [],
   "source": [
    "main['']"
   ]
  },
  {
   "cell_type": "code",
   "execution_count": 63,
   "id": "db107fd8-cffb-4fc5-a157-36616163c309",
   "metadata": {},
   "outputs": [
    {
     "data": {
      "text/plain": [
       "{'coord': {'lon': -96.882, 'lat': 33.0033},\n",
       " 'weather': [{'id': 804,\n",
       "   'main': 'Clouds',\n",
       "   'description': 'overcast clouds',\n",
       "   'icon': '04d'}],\n",
       " 'base': 'stations',\n",
       " 'main': {'temp': 281.29,\n",
       "  'feels_like': 278.57,\n",
       "  'temp_min': 279.78,\n",
       "  'temp_max': 282.57,\n",
       "  'pressure': 1028,\n",
       "  'humidity': 60},\n",
       " 'visibility': 10000,\n",
       " 'wind': {'speed': 4.63, 'deg': 20},\n",
       " 'clouds': {'all': 100},\n",
       " 'dt': 1668804302,\n",
       " 'sys': {'type': 2,\n",
       "  'id': 2012789,\n",
       "  'country': 'US',\n",
       "  'sunrise': 1668776465,\n",
       "  'sunset': 1668813880},\n",
       " 'timezone': -21600,\n",
       " 'id': 0,\n",
       " 'name': 'Carrollton',\n",
       " 'cod': 200}"
      ]
     },
     "execution_count": 63,
     "metadata": {},
     "output_type": "execute_result"
    }
   ],
   "source": [
    "main"
   ]
  },
  {
   "cell_type": "code",
   "execution_count": 64,
   "id": "424224ef-af72-4b14-802f-9281d5276533",
   "metadata": {},
   "outputs": [],
   "source": [
    "url2 = \"https://api.openweathermap.org/data/3.0/onecall?lat=33.0033&lon=-96.882&exclude=hourly,daily&appid={}\".format(API_KEY)"
   ]
  },
  {
   "cell_type": "code",
   "execution_count": 65,
   "id": "23e56975-272b-4097-bcba-26119b238208",
   "metadata": {},
   "outputs": [
    {
     "data": {
      "text/plain": [
       "'https://api.openweathermap.org/data/3.0/onecall?lat=33.0033&lon=-96.882&exclude=hourly,daily&appid=4a2015aa6a423fe2290c16f0619ce3f7'"
      ]
     },
     "execution_count": 65,
     "metadata": {},
     "output_type": "execute_result"
    }
   ],
   "source": [
    "url2"
   ]
  },
  {
   "cell_type": "code",
   "execution_count": 66,
   "id": "778a4dad-7277-4675-ab06-e238da605706",
   "metadata": {},
   "outputs": [],
   "source": [
    "res = requests.get(url2)"
   ]
  },
  {
   "cell_type": "code",
   "execution_count": 67,
   "id": "3ef9b133-80cb-43fc-afc3-7ccc408e9f6d",
   "metadata": {},
   "outputs": [
    {
     "data": {
      "text/plain": [
       "<Response [401]>"
      ]
     },
     "execution_count": 67,
     "metadata": {},
     "output_type": "execute_result"
    }
   ],
   "source": [
    "res"
   ]
  },
  {
   "cell_type": "markdown",
   "id": "4271bc9c-34c1-4ef8-bae1-1d7bc1962927",
   "metadata": {},
   "source": [
    "# Sending Texts "
   ]
  },
  {
   "cell_type": "code",
   "execution_count": null,
   "id": "6eecc2be-a9e4-40c5-a049-d4ae4f8f24ed",
   "metadata": {},
   "outputs": [],
   "source": [
    "import yagmail"
   ]
  },
  {
   "cell_type": "code",
   "execution_count": null,
   "id": "bcc54816-3fd1-4f08-9216-a60f548d2ece",
   "metadata": {},
   "outputs": [],
   "source": [
    "message = \"TGIF\""
   ]
  },
  {
   "cell_type": "code",
   "execution_count": 33,
   "id": "427e7533-3218-473b-89d5-25be7cb0e424",
   "metadata": {},
   "outputs": [
    {
     "data": {
      "text/plain": [
       "{}"
      ]
     },
     "execution_count": 33,
     "metadata": {},
     "output_type": "execute_result"
    }
   ],
   "source": [
    "yag = yagmail.SMTP('nbadailyprediction@gmail.com', password = \"bjqphhhhbbpzobns\")\n",
    "yag.send(to='3256173035@mms.att.net',contents=message)"
   ]
  },
  {
   "cell_type": "code",
   "execution_count": null,
   "id": "f51e7956-3bca-48b8-8ef7-5a0e213c41fd",
   "metadata": {},
   "outputs": [],
   "source": []
  },
  {
   "cell_type": "code",
   "execution_count": 140,
   "id": "bcf4c87e-a38b-4a02-b872-df955c61a45c",
   "metadata": {},
   "outputs": [
    {
     "ename": "NameError",
     "evalue": "name 'pos1' is not defined",
     "output_type": "error",
     "traceback": [
      "\u001b[0;31m---------------------------------------------------------------------------\u001b[0m",
      "\u001b[0;31mNameError\u001b[0m                                 Traceback (most recent call last)",
      "\u001b[0;32m/var/folders/yr/8qkt_qm90r91jcgjnqdln_2c0000gn/T/ipykernel_14196/342334359.py\u001b[0m in \u001b[0;36m<module>\u001b[0;34m\u001b[0m\n\u001b[0;32m----> 1\u001b[0;31m \u001b[0mpos1\u001b[0m\u001b[0;34m\u001b[0m\u001b[0;34m\u001b[0m\u001b[0m\n\u001b[0m",
      "\u001b[0;31mNameError\u001b[0m: name 'pos1' is not defined"
     ]
    }
   ],
   "source": [
    "pos1"
   ]
  },
  {
   "cell_type": "markdown",
   "id": "2423ab93-77f1-4880-aea7-ac760d254ec5",
   "metadata": {},
   "source": [
    "# TESTING"
   ]
  },
  {
   "cell_type": "code",
   "execution_count": 143,
   "id": "1f38a643-a6e7-476b-8b7d-f4d436cccded",
   "metadata": {},
   "outputs": [],
   "source": [
    "def cover_your_plants(city=\"carrollton\"):\n",
    "    # imports \n",
    "    \n",
    "    # for scraping the weather \n",
    "    from bs4 import BeautifulSoup\n",
    "    import requests\n",
    "    # for sending the text \n",
    "    import yagmail\n",
    "    \n",
    "    # scraping the weather \n",
    "    \n",
    "    # create url\n",
    "    url = \"https://www.google.com/search?q=\"+\"weather\"+city\n",
    "    # requests instance\n",
    "    html = requests.get(url).content\n",
    "    # getting raw data\n",
    "    soup = BeautifulSoup(html, 'html.parser')\n",
    "    # getting the temperature \n",
    "    # get the temperature\n",
    "    temp = soup.find('div', attrs={'class': 'BNeawe iBp4i AP7Wnd'}).text\n",
    "    # this contains time and sky description\n",
    "    string = soup.find('div', attrs={'class': 'BNeawe tAd8D AP7Wnd'}).text\n",
    "    # format the data\n",
    "    data = string.split('\\n')\n",
    "    time = data[0]\n",
    "    sky = data[1]\n",
    "    # list having all div tags having particular class name\n",
    "    listdiv = soup.findAll('div', attrs={'class': 'BNeawe s3v9rd AP7Wnd'})\n",
    "    # particular list with required data\n",
    "    strd = listdiv[5].text\n",
    "    # formatting the string\n",
    "    pos1 = strd.find('Wind')\n",
    "    other_data = strd[pos1:]\n",
    "    hilo = strd[strd.find('High'):strd.find('Wind')-3]\n",
    "    \n",
    "    # setting the recommendation\n",
    "    low = int(hilo[-3:-1])\n",
    "    if low <=32:\n",
    "        recommendation = \"Cover the plants!\"\n",
    "    elif low >32:\n",
    "        recommendation = \"No need to cover the plants tonight.\"\n",
    "    else:\n",
    "        recommendation = \"Something is wrong! Check your code!\"\n",
    "    \n",
    "    # formatting the message \n",
    "    message = \"Current Temperature is {}. Current Time: {}. Sky Description: {}. {}. {}. {}\".format(temp,time,sky,other_data,hilo,recommendation)\n",
    "    \n",
    "    # sending the message \n",
    "    yag = yagmail.SMTP('nbadailyprediction@gmail.com', password = \"bjqphhhhbbpzobns\")\n",
    "    yag.send(to=['3256173035@mms.att.net','5127863033@mms.att.net'],contents=message)"
   ]
  },
  {
   "cell_type": "code",
   "execution_count": 144,
   "id": "264ca459-9dde-42bd-b5f7-1c67275ca45d",
   "metadata": {},
   "outputs": [],
   "source": [
    "cover_your_plants()"
   ]
  },
  {
   "cell_type": "code",
   "execution_count": null,
   "id": "8a028039-cfaf-4f9f-a450-75c39e9b6fbc",
   "metadata": {},
   "outputs": [],
   "source": []
  }
 ],
 "metadata": {
  "kernelspec": {
   "display_name": "Python 3 (ipykernel)",
   "language": "python",
   "name": "python3"
  },
  "language_info": {
   "codemirror_mode": {
    "name": "ipython",
    "version": 3
   },
   "file_extension": ".py",
   "mimetype": "text/x-python",
   "name": "python",
   "nbconvert_exporter": "python",
   "pygments_lexer": "ipython3",
   "version": "3.8.12"
  }
 },
 "nbformat": 4,
 "nbformat_minor": 5
}
